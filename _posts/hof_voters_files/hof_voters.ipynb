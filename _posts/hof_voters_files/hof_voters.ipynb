{
 "cells": [
  {
   "cell_type": "code",
   "execution_count": 1,
   "metadata": {
    "collapsed": true
   },
   "outputs": [],
   "source": [
    "\n",
    "import numpy as np\n",
    "from scipy import stats\n",
    "\n",
    "import matplotlib\n",
    "import matplotlib.pyplot as plt\n",
    "%matplotlib inline  \n"
   ]
  },
  {
   "cell_type": "markdown",
   "metadata": {},
   "source": [
    "# Did the Hall of Fame voter purge make a difference?"
   ]
  },
  {
   "cell_type": "markdown",
   "metadata": {},
   "source": [
    "In a recent Jayson Stark article and about [lessons in hall of fame voting](http://espn.go.com/mlb/story/_/id/14521041/five-things-learned-2016-hall-fame-election), he mentions the following three assumptions about the Baseball Hall of fame voters after a significant number of non-active voters were eliminated:\n",
    "\n",
    "> An electorate in which 109 fewer writers cast a vote in this election than in 2015.\n",
    ">\n",
    "> An electorate that had a much different perspective on players who shined brightest under the light of new-age metrics.\n",
    ">\n",
    "> And an electorate that appeared significantly less judgmental of players shadowed by those pesky performance-enhancing drug clouds.\n",
    "\n",
    "However, are these last two assumptions true?  Did the purge of Hall of Fame voters make a difference?  Did the set of Hall of Fame voters least active have a different set of values than the those who are still voting? \n"
   ]
  },
  {
   "cell_type": "markdown",
   "metadata": {},
   "source": [
    "Arbitrarily, I decided to test this against the years 1995-2016, which gives a good 20 elections as well as starting at the year Mike Schmidt was elected to the Hall of Fame (which is utterly arbitrary other than Mike Schmidt being my favorite player when I was young).  However to figure this out, the first question that has to be answer is how does the average percentage change from year to year.  This ends up being a little surprising when you just look at the numbers: "
   ]
  },
  {
   "cell_type": "code",
   "execution_count": 2,
   "metadata": {
    "collapsed": false
   },
   "outputs": [],
   "source": [
    "#read in the data\n",
    "def read_votes(infile):\n",
    "    \"\"\"Read in the number of votes in each file\"\"\"\n",
    "    lines = open(infile).readlines()\n",
    "    hof_votes = {}\n",
    "    for l in lines:\n",
    "        player={}\n",
    "        l = l.split(',')\n",
    "        name = l[1].replace('X-', '').replace(' HOF', '').strip()\n",
    "        player['year'] = l[2]\n",
    "        player['votes'] = float(l[3])\n",
    "        player['p'] = float(l[4][:-1])/100.0\n",
    "        player['war'] = float(l[8])\n",
    "        hof_votes[name] = player\n",
    "    return hof_votes\n",
    "\n",
    "\n",
    "#calcuate the total number of votes in each year\n",
    "hof={}\n",
    "n_votes = {}\n",
    "for i in np.arange(1996, 2017):\n",
    "    hof[i] = read_votes('{}_list.csv'.format(i))\n",
    "    k=0\n",
    "    keys = hof[i].keys()\n",
    "    while hof[i][keys[k]]['p']<0.5: k+=1\n",
    "    k = keys[k]\n",
    "    n_votes[i] = int ( hof[i][k]['votes'] / hof[i][k]['p'])\n",
    "n_years = 2017-1996"
   ]
  },
  {
   "cell_type": "code",
   "execution_count": 3,
   "metadata": {
    "collapsed": true
   },
   "outputs": [],
   "source": [
    "def match_years(hof, year1, year2):\n",
    "    \"Produce a list of players and the number of votes received between two years\"\n",
    "    player_dict={}\n",
    "    for name in hof[year1].keys():\n",
    "        if name in hof[year2].keys():\n",
    "            player_dict[name]=np.array([hof[year1][name]['p'], hof[year2][name]['p']])\n",
    "    return player_dict\n"
   ]
  },
  {
   "cell_type": "code",
   "execution_count": 4,
   "metadata": {
    "collapsed": true
   },
   "outputs": [],
   "source": [
    "end_year = 2017\n",
    "def number_of_first_year(hof, year):\n",
    "    \"Calculate the number of first ballot hall of famers in a class\"\n",
    "    first_year = 0\n",
    "    for name in hof[year]:\n",
    "        if hof[year][name]['year']=='1st':\n",
    "           if hof[year][name]['p']>0.75: first_year+= 1\n",
    "           if name in ['Barry Bonds', 'Roger Clemens']: first_year+= 1\n",
    "    return first_year\n",
    "\n",
    "\n",
    "def number_of_HOF(hof, year):\n",
    "    \"Calculte the number of HOF for a year\"\n",
    "    first_year = 0\n",
    "    for name in hof[year]:\n",
    "        if hof[year][name]['p']>0.75: first_year+= 1\n",
    "    return first_year\n",
    "\n",
    "def number_of_drop(hof, year):\n",
    "    \"Calculate the number of players dropped in a year\"\n",
    "    first_year = 0\n",
    "    for name in hof[year]:\n",
    "        if hof[year][name]['p']<0.05: first_year+= 1\n",
    "    return first_year\n"
   ]
  },
  {
   "cell_type": "code",
   "execution_count": 5,
   "metadata": {
    "collapsed": false
   },
   "outputs": [],
   "source": [
    "def total_number_of_hof(hof, year):\n",
    "    \"Total number of hall of famers for a class\"\n",
    "    first_year = 0\n",
    "    for name in hof[year]:\n",
    "        if hof[year][name]['year']=='1st':\n",
    "           if hof[year][name]['p']>0.75: \n",
    "              first_year+= 1\n",
    "           if name in ['Barry Bonds', 'Roger Clemens']: first_year+= 1\n",
    "           for y in range(year+1, end_year):\n",
    "               if name in hof[y].keys():\n",
    "                    #print year, name, hof[y][name]['p']\n",
    "                    if hof[y][name]['p']>0.75: \n",
    "                        first_year+= 1\n",
    "    return first_year\n"
   ]
  },
  {
   "cell_type": "code",
   "execution_count": 6,
   "metadata": {
    "collapsed": true
   },
   "outputs": [],
   "source": [
    "def average_change_in_votes(hof, year1, year2):\n",
    "    \"\"\"Determine the statistics change in votes from one class to another\"\"\"\n",
    "    player_dict = match_years(hof, year1, year2)\n",
    "    #print player_dict\n",
    "    change = 0\n",
    "    count = 0\n",
    "    for name in player_dict:\n",
    "        change += player_dict[name][1] - player_dict[name][0]\n",
    "        count += 1\n",
    "        #print count, name, player_dict[name][0], player_dict[name][1], player_dict[name][1] - player_dict[name][0], change\n",
    "    change = change / count\n",
    "    return count, change\n"
   ]
  },
  {
   "cell_type": "code",
   "execution_count": 7,
   "metadata": {
    "collapsed": false
   },
   "outputs": [],
   "source": [
    "def number_of_votes(hof, year):\n",
    "    keys = hof[year].keys()\n",
    "    k=0\n",
    "    while hof[year][keys[k]]['p']<0.5: k+=1\n",
    "    k = keys[k]\n",
    "    return int ( hof[year][k]['votes'] / hof[year][k]['p'])\n"
   ]
  },
  {
   "cell_type": "code",
   "execution_count": 12,
   "metadata": {
    "collapsed": false
   },
   "outputs": [],
   "source": [
    "from astropy.table import Table\n",
    "data_table = Table(names=('Year','Votes', 'Strength', 'HOF', 'Drop', 'Count', 'Change', 'Total'))\n",
    "for year in np.arange(1997,2017):\n",
    "    strength = number_of_first_year(hof, year)\n",
    "    nhof = number_of_HOF(hof, year)\n",
    "    nvotes = number_of_votes(hof, year)\n",
    "    ndrop = number_of_drop(hof, year)\n",
    "    total = total_number_of_hof(hof, year)\n",
    "    count, change = average_change_in_votes(hof, year-1, year)\n",
    "    data_table.add_row([year, nvotes, strength, nhof, ndrop, count, change, total])\n"
   ]
  },
  {
   "cell_type": "code",
   "execution_count": 13,
   "metadata": {
    "collapsed": false
   },
   "outputs": [
    {
     "data": {
      "image/png": "[encoded data removed]",
      "text/plain": [
       "<matplotlib.figure.Figure at 0x1099b7410>"
      ]
     },
     "metadata": {},
     "output_type": "display_data"
    }
   ],
   "source": [
    "plt.figure()\n",
    "plt.plot(data_table['Year'], data_table['Change'], ls='', marker='o')\n",
    "plt.xlabel('Year', fontsize='x-large')\n",
    "plt.ylabel('$\\Delta p \\ (\\%)$', fontsize='x-large')\n",
    "plt.show()\n"
   ]
  },
  {
   "cell_type": "code",
   "execution_count": 14,
   "metadata": {
    "collapsed": false
   },
   "outputs": [
    {
     "data": {
      "text/plain": [
       "'Max=0.0822352941176  Min=-0.0601764705882'"
      ]
     },
     "execution_count": 14,
     "metadata": {},
     "output_type": "execute_result"
    }
   ],
   "source": [
    "'Mean={}  Std={}'.format(data_table['Change'].mean(), data_table['Change'].std())\n",
    "'Max={}  Min={}'.format(data_table['Change'].max(), data_table['Change'].min())"
   ]
  },
  {
   "cell_type": "markdown",
   "metadata": {},
   "source": [
    "As a matter of fact, this year saw one of the largest increases at 8.2%.  Taken alone, this may indicate that something has changed with the removal of so many voters, but when viewed with all the other years, it does not look very exceptional as the values range between -6 to +8%.  The average change is an increase by 2% per year, but with a standard deviation much larger than it of 4%.  *The average change in percentage is either highly random or driven by something other than change in the number of votes.*  In fact, the change in percentages does not show any strong correlation with the number of voters or the change in number of voters.  \n"
   ]
  },
  {
   "cell_type": "code",
   "execution_count": 15,
   "metadata": {
    "collapsed": false
   },
   "outputs": [
    {
     "data": {
      "text/plain": [
       "(0.12433150236202198, 0.60148997659379133)"
      ]
     },
     "execution_count": 15,
     "metadata": {},
     "output_type": "execute_result"
    }
   ],
   "source": [
    "stats.pearsonr(data_table['Year'], data_table['Change'])\n"
   ]
  },
  {
   "cell_type": "code",
   "execution_count": 16,
   "metadata": {
    "collapsed": false
   },
   "outputs": [
    {
     "data": {
      "text/plain": [
       "(-0.18919150246965624, 0.42436872449811769)"
      ]
     },
     "execution_count": 16,
     "metadata": {},
     "output_type": "execute_result"
    }
   ],
   "source": [
    "stats.pearsonr(data_table['Votes'], data_table['Change'])\n"
   ]
  },
  {
   "cell_type": "code",
   "execution_count": 17,
   "metadata": {
    "collapsed": false
   },
   "outputs": [
    {
     "data": {
      "text/plain": [
       "(-0.40589419128970977, 0.084659001306052251)"
      ]
     },
     "execution_count": 17,
     "metadata": {},
     "output_type": "execute_result"
    }
   ],
   "source": [
    "stats.pearsonr(data_table['Votes'][1:]-data_table['Votes'][:-1], data_table['Change'][1:])\n"
   ]
  },
  {
   "cell_type": "code",
   "execution_count": 18,
   "metadata": {
    "collapsed": false,
    "scrolled": true
   },
   "outputs": [
    {
     "data": {
      "text/html": [
       "&lt;Table length=20&gt;\n",
       "<table id=\"table4455897936-809644\" class=\"table table-striped table-bordered table-condensed\">\n",
       "<thead><tr><th>Year</th><th>Votes</th><th>Count</th><th>Change</th><th>Strength</th><th>Total</th><th>HOF</th><th>Drop</th></tr></thead>\n",
       "<tr><td>1997.0</td><td>473.0</td><td>22.0</td><td>0.0140909090909</td><td>0.0</td><td>1.0</td><td>1.0</td><td>10.0</td></tr>\n",
       "<tr><td>1998.0</td><td>472.0</td><td>17.0</td><td>0.0349411764706</td><td>0.0</td><td>2.0</td><td>1.0</td><td>7.0</td></tr>\n",
       "<tr><td>1999.0</td><td>496.0</td><td>17.0</td><td>-0.0581176470588</td><td>3.0</td><td>4.0</td><td>3.0</td><td>7.0</td></tr>\n",
       "<tr><td>2000.0</td><td>498.0</td><td>16.0</td><td>0.07625</td><td>0.0</td><td>1.0</td><td>2.0</td><td>13.0</td></tr>\n",
       "<tr><td>2001.0</td><td>514.0</td><td>15.0</td><td>0.02</td><td>2.0</td><td>2.0</td><td>2.0</td><td>13.0</td></tr>\n",
       "<tr><td>2002.0</td><td>472.0</td><td>17.0</td><td>-0.00876470588235</td><td>1.0</td><td>2.0</td><td>1.0</td><td>10.0</td></tr>\n",
       "<tr><td>2003.0</td><td>496.0</td><td>16.0</td><td>-0.0015</td><td>1.0</td><td>2.0</td><td>2.0</td><td>13.0</td></tr>\n",
       "<tr><td>2004.0</td><td>505.0</td><td>17.0</td><td>0.00564705882353</td><td>2.0</td><td>2.0</td><td>2.0</td><td>15.0</td></tr>\n",
       "<tr><td>2005.0</td><td>515.0</td><td>15.0</td><td>0.0414</td><td>1.0</td><td>1.0</td><td>2.0</td><td>10.0</td></tr>\n",
       "<tr><td>2006.0</td><td>520.0</td><td>15.0</td><td>0.0496666666667</td><td>0.0</td><td>0.0</td><td>1.0</td><td>13.0</td></tr>\n",
       "<tr><td>2007.0</td><td>544.0</td><td>15.0</td><td>-0.0312666666667</td><td>2.0</td><td>2.0</td><td>2.0</td><td>15.0</td></tr>\n",
       "<tr><td>2008.0</td><td>542.0</td><td>14.0</td><td>0.0598571428571</td><td>0.0</td><td>0.0</td><td>1.0</td><td>10.0</td></tr>\n",
       "<tr><td>2009.0</td><td>539.0</td><td>13.0</td><td>0.000923076923077</td><td>1.0</td><td>1.0</td><td>2.0</td><td>9.0</td></tr>\n",
       "<tr><td>2010.0</td><td>538.0</td><td>11.0</td><td>0.0480909090909</td><td>0.0</td><td>2.0</td><td>1.0</td><td>11.0</td></tr>\n",
       "<tr><td>2011.0</td><td>581.0</td><td>14.0</td><td>0.0192142857143</td><td>0.0</td><td>0.0</td><td>2.0</td><td>16.0</td></tr>\n",
       "<tr><td>2012.0</td><td>572.0</td><td>14.0</td><td>0.0708571428571</td><td>0.0</td><td>0.0</td><td>1.0</td><td>13.0</td></tr>\n",
       "<tr><td>2013.0</td><td>568.0</td><td>13.0</td><td>-0.0124615384615</td><td>2.0</td><td>4.0</td><td>0.0</td><td>19.0</td></tr>\n",
       "<tr><td>2014.0</td><td>571.0</td><td>17.0</td><td>-0.0601764705882</td><td>3.0</td><td>3.0</td><td>3.0</td><td>15.0</td></tr>\n",
       "<tr><td>2015.0</td><td>548.0</td><td>17.0</td><td>0.0304117647059</td><td>3.0</td><td>3.0</td><td>4.0</td><td>12.0</td></tr>\n",
       "<tr><td>2016.0</td><td>440.0</td><td>17.0</td><td>0.0822352941176</td><td>1.0</td><td>1.0</td><td>2.0</td><td>13.0</td></tr>\n",
       "</table><style>table.dataTable {clear: both; width: auto !important; margin: 0 !important;}\n",
       ".dataTables_info, .dataTables_length, .dataTables_filter, .dataTables_paginate{\n",
       "display: inline-block; margin-right: 1em; }\n",
       ".paginate_button { margin-right: 5px; }\n",
       "</style>\n",
       "<script>\n",
       "require.config({paths: {\n",
       "    datatables: 'https://cdn.datatables.net/1.10.9/js/jquery.dataTables.min'\n",
       "}});\n",
       "require([\"datatables\"], function(){\n",
       "    console.log(\"$('#table4455897936-809644').dataTable()\");\n",
       "    $('#table4455897936-809644').dataTable({\n",
       "        \"iDisplayLength\": 21,\n",
       "        \"aLengthMenu\": [[21, 10, 25, 50, 100, 500, 1000, -1], [21, 10, 25, 50, 100, 500, 1000, 'All']],\n",
       "        \"pagingType\": \"full_numbers\"\n",
       "    });\n",
       "});\n",
       "</script>\n"
      ],
      "text/plain": [
       "<IPython.core.display.HTML object>"
      ]
     },
     "execution_count": 18,
     "metadata": {},
     "output_type": "execute_result"
    }
   ],
   "source": [
    "data_table['Year', 'Votes', 'Count', 'Change', 'Strength','Total', 'HOF', 'Drop'].show_in_notebook(display_length=21)\n",
    "#['Year', 'Count', 'Change', 'Strength', 'HOF', 'Drop']\n",
    "\n"
   ]
  },
  {
   "cell_type": "markdown",
   "metadata": {},
   "source": [
    "## Correlations with Hall of Fame classes\n",
    "\n",
    "At initial glance, there is not much pattern to the data so pure randomness could be an explanation.  However, we can define a few other metrics to take a look at the data and it might give us a better idea of what is going on.  The first would be the number of Hall of Famers (hofs) elected in the previous class.  The second is defined as the strength of the class as the number of first ballot hofs in that class (For the record, I consider Bonds and Clemons as first ballot hall of famers as the would have been if not for their Performance Enhancing Drug (PED) history).  The third is the total number of hofs in a class, but that is uncertain for the most recent classes.    \n",
    "\n",
    "A very strong trend does appears between the average change in the percentage and the strength of an incoming class minus the number of hofs elected the year before.  Unsurprisingly, when a strong class comes onto the ballot, they tend to take votes away from other players. Likewise, when a large number of players are elected, they free up votes for other players.  A linear relationship of $$s = 0.0299*nhof_{previous} -0.0221\\times Strength - 0.0034\\times(Total-Strength) - 0.00299$$ gives a very good fit to  $\\Delta p$ and shows a strong linear correlation indicated by an r-pearson statistic of 0.95.  "
   ]
  },
  {
   "cell_type": "code",
   "execution_count": 19,
   "metadata": {
    "collapsed": true
   },
   "outputs": [],
   "source": [
    "nhof_2 = data_table['Total'][1:]- data_table['Strength'][1:] #number of HOFs in a class after year 1\n",
    "\n",
    "p = data_table['Change'][1:]  \n",
    "dv = data_table['Votes'][1:] - data_table['Votes'][:-1]\n",
    "\n"
   ]
  },
  {
   "cell_type": "code",
   "execution_count": 20,
   "metadata": {
    "collapsed": false
   },
   "outputs": [
    {
     "name": "stdout",
     "output_type": "stream",
     "text": [
      "[-0.0221596  -0.00347177  0.02892667 -0.00299066]\n"
     ]
    }
   ],
   "source": [
    "from scipy import linalg as la\n",
    "aa = np.vstack((data_table['Strength'][1:],nhof_2,data_table['HOF'][:-1], np.ones_like(nhof_2))).T\n",
    "polycofs = la.lstsq(aa[:-1], p[:-1])[0]\n",
    "print polycofs"
   ]
  },
  {
   "cell_type": "code",
   "execution_count": 21,
   "metadata": {
    "collapsed": false
   },
   "outputs": [
    {
     "data": {
      "text/plain": [
       "array([ 0.01899247, -0.04401456,  0.08031758,  0.01054347,  0.02923131,\n",
       "        0.00030464,  0.01054347,  0.03270307,  0.05486268, -0.0183832 ,\n",
       "        0.05486268,  0.00377641,  0.04791914,  0.02593601,  0.05486268,\n",
       "       -0.02532673, -0.06946947,  0.01731054,  0.09055641])"
      ]
     },
     "execution_count": 21,
     "metadata": {},
     "output_type": "execute_result"
    }
   ],
   "source": [
    "s = aa * polycofs \n",
    "s = s.sum(axis=1)\n",
    "s"
   ]
  },
  {
   "cell_type": "code",
   "execution_count": 22,
   "metadata": {
    "collapsed": false,
    "scrolled": true
   },
   "outputs": [
    {
     "data": {
      "image/png": "[encoded data removed]",
      "text/plain": [
       "<matplotlib.figure.Figure at 0x108945a90>"
      ]
     },
     "metadata": {},
     "output_type": "display_data"
    },
    {
     "name": "stdout",
     "output_type": "stream",
     "text": [
      "(0.94973196989687392, 5.3216490374234465e-10)\n"
     ]
    }
   ],
   "source": [
    "plt.figure()\n",
    "plt.plot(data_table['HOF'][:-1]-data_table['Strength'][1:], p, ls='', marker='o')\n",
    "plt.xlabel('$nhof_{previous} - Strength$', fontsize='x-large')\n",
    "plt.ylabel('$\\Delta p \\ (\\%)$', fontsize='x-large')\n",
    "plt.show()\n",
    "from scipy import stats\n",
    "print stats.pearsonr(s,p)"
   ]
  },
  {
   "cell_type": "code",
   "execution_count": 23,
   "metadata": {
    "collapsed": false,
    "scrolled": true
   },
   "outputs": [
    {
     "data": {
      "text/html": [
       "&lt;Table length=19&gt;\n",
       "<table id=\"table4458162064-152398\" class=\"table table-striped table-bordered table-condensed\">\n",
       "<thead><tr><th>Year</th><th>HOF</th><th>Change</th></tr></thead>\n",
       "<tr><td>1998.0</td><td>1.0</td><td>0.0349411764706</td></tr>\n",
       "<tr><td>1999.0</td><td>-2.0</td><td>-0.0581176470588</td></tr>\n",
       "<tr><td>2000.0</td><td>3.0</td><td>0.07625</td></tr>\n",
       "<tr><td>2001.0</td><td>0.0</td><td>0.02</td></tr>\n",
       "<tr><td>2002.0</td><td>1.0</td><td>-0.00876470588235</td></tr>\n",
       "<tr><td>2003.0</td><td>0.0</td><td>-0.0015</td></tr>\n",
       "<tr><td>2004.0</td><td>0.0</td><td>0.00564705882353</td></tr>\n",
       "<tr><td>2005.0</td><td>1.0</td><td>0.0414</td></tr>\n",
       "<tr><td>2006.0</td><td>2.0</td><td>0.0496666666667</td></tr>\n",
       "<tr><td>2007.0</td><td>-1.0</td><td>-0.0312666666667</td></tr>\n",
       "<tr><td>2008.0</td><td>2.0</td><td>0.0598571428571</td></tr>\n",
       "<tr><td>2009.0</td><td>0.0</td><td>0.000923076923077</td></tr>\n",
       "<tr><td>2010.0</td><td>2.0</td><td>0.0480909090909</td></tr>\n",
       "<tr><td>2011.0</td><td>1.0</td><td>0.0192142857143</td></tr>\n",
       "<tr><td>2012.0</td><td>2.0</td><td>0.0708571428571</td></tr>\n",
       "<tr><td>2013.0</td><td>-1.0</td><td>-0.0124615384615</td></tr>\n",
       "<tr><td>2014.0</td><td>-3.0</td><td>-0.0601764705882</td></tr>\n",
       "<tr><td>2015.0</td><td>0.0</td><td>0.0304117647059</td></tr>\n",
       "<tr><td>2016.0</td><td>3.0</td><td>0.0822352941176</td></tr>\n",
       "</table><style>table.dataTable {clear: both; width: auto !important; margin: 0 !important;}\n",
       ".dataTables_info, .dataTables_length, .dataTables_filter, .dataTables_paginate{\n",
       "display: inline-block; margin-right: 1em; }\n",
       ".paginate_button { margin-right: 5px; }\n",
       "</style>\n",
       "<script>\n",
       "require.config({paths: {\n",
       "    datatables: 'https://cdn.datatables.net/1.10.9/js/jquery.dataTables.min'\n",
       "}});\n",
       "require([\"datatables\"], function(){\n",
       "    console.log(\"$('#table4458162064-152398').dataTable()\");\n",
       "    $('#table4458162064-152398').dataTable({\n",
       "        \"iDisplayLength\": 50,\n",
       "        \"aLengthMenu\": [[10, 25, 50, 100, 500, 1000, -1], [10, 25, 50, 100, 500, 1000, 'All']],\n",
       "        \"pagingType\": \"full_numbers\"\n",
       "    });\n",
       "});\n",
       "</script>\n"
      ],
      "text/plain": [
       "<IPython.core.display.HTML object>"
      ]
     },
     "execution_count": 23,
     "metadata": {},
     "output_type": "execute_result"
    }
   ],
   "source": [
    "Table((data_table['Year'][1:],data_table['HOF'][:-1]-data_table['Strength'][1:],p)).show_in_notebook()\n"
   ]
  },
  {
   "cell_type": "code",
   "execution_count": 24,
   "metadata": {
    "collapsed": false
   },
   "outputs": [
    {
     "name": "stdout",
     "output_type": "stream",
     "text": [
      "0.0905564147749\n",
      "[  9.80227040e-01  -4.71478086e-05]\n"
     ]
    }
   ],
   "source": [
    "coef = np.polyfit(s,p,1)\n",
    "np.polyval(coef,0.08)\n",
    "print s[-1]\n",
    "print coef"
   ]
  },
  {
   "cell_type": "markdown",
   "metadata": {},
   "source": [
    "## Change in Voting Habits\n",
    "\n",
    "\n",
    "If we use this relationship, we can look at what the expected percentage average change in the votes were for 2016.   The expected change based on the existing data (1 First ballot hofs, 4  hofs the previous year, 1 total hof for class of 2016) was an increase of +9.0%.  The average increase for 2016?   That was +8.2%.  So, at least overall, the increase in percentages is exactly what was expected based on a moderate incoming class (if you also assume Trevor Hoffman will eventually be elected the expected change for this year is then 8.7%) and four players entering the Hall the previous year.  **From this perspective, the voting purge made little difference in how the  percentage of votes for a player changed.**  "
   ]
  },
  {
   "cell_type": "code",
   "execution_count": 25,
   "metadata": {
    "collapsed": false,
    "scrolled": true
   },
   "outputs": [
    {
     "name": "stdout",
     "output_type": "stream",
     "text": [
      "2016 0.0905564147749\n"
     ]
    }
   ],
   "source": [
    "name_list = []\n",
    "p_list = []\n",
    "dp_list = []\n",
    "pp_list = []\n",
    "year1 = 2015\n",
    "year2 = year1+1\n",
    "expect_p = s[year2 - 1998]\n",
    "print year2,  expect_p"
   ]
  },
  {
   "cell_type": "markdown",
   "metadata": {},
   "source": [
    "Historically, players with higher vote percentage generally have seen their voting percentages increase.    In the figure below, we look at the difference between the change in vote percentage for a given player, $\\Delta p$, and the expected average change for all players that year as compared to the player's percentage, p, for the previous year.   The 2016 year (red squares) does not appear significantly different than any other years (blue circles).  It is just more common that players with low vote percentages tend to have their vote percentages suppressed than players with higher vote percentages.   Nonetheless, there is large scatter in the distribution, which for any given player in any given year does not make it very predictive.   "
   ]
  },
  {
   "cell_type": "code",
   "execution_count": 26,
   "metadata": {
    "collapsed": false
   },
   "outputs": [
    {
     "data": {
      "image/png": "[encoded data removed]",
      "text/plain": [
       "<matplotlib.figure.Figure at 0x109b2edd0>"
      ]
     },
     "metadata": {},
     "output_type": "display_data"
    }
   ],
   "source": [
    "plt.figure()\n",
    "name_list=[]\n",
    "p_list=[]\n",
    "pp_list=[]\n",
    "dp_list=[]\n",
    "war_list=[]\n",
    "for year1 in range(1997,2015):\n",
    "    year2 = year1+1\n",
    "    expect_p = s[year2 - 1998]\n",
    "    for name in hof[year1]:\n",
    "        if name in hof[year2].keys():  \n",
    "            name_list.append(name)\n",
    "            p_list.append(hof[year1][name]['p'])\n",
    "            dp_list.append(hof[year2][name]['p'] - hof[year1][name]['p'])\n",
    "            pp_list.append((hof[year2][name]['p'] - hof[year1][name]['p'])-expect_p)\n",
    "            war_list.append(hof[year2][name]['war'])\n",
    "plt.plot(p_list, pp_list, 'bo')\n",
    "\n",
    "name_list=[]\n",
    "p_2016_list=[]\n",
    "pp_2016_list=[]\n",
    "dp_2016_list=[]\n",
    "war_2016_list = []\n",
    "year1=2015\n",
    "year2 = year1+1\n",
    "expect_p = s[year2 - 1998]\n",
    "for name in hof[year1]:\n",
    "    if name in hof[year2].keys():  \n",
    "        name_list.append(name)\n",
    "        p_2016_list.append(hof[year1][name]['p'])\n",
    "        dp_2016_list.append(hof[year2][name]['p'] - hof[year1][name]['p'])\n",
    "        pp_2016_list.append((hof[year2][name]['p'] - hof[year1][name]['p'])-expect_p)\n",
    "        war_2016_list.append(hof[year2][name]['war'])\n",
    "plt.plot(p_2016_list, pp_2016_list, 'rs')\n",
    "plt.xlabel('p (%)', fontsize='x-large')\n",
    "plt.ylabel('$\\Delta p - s $', fontsize='x-large')\n",
    "plt.show()"
   ]
  },
  {
   "cell_type": "markdown",
   "metadata": {},
   "source": [
    "### Have voters changed in terms of WAR or PEDs?"
   ]
  },
  {
   "cell_type": "markdown",
   "metadata": {},
   "source": [
    "If we look at the corrected change in voting percentage as a function of WAR, there does appear to be a stronger correlation between WAR and percentage change this year (red and green squares) than seen last year (blue circles), although some correlation does exist.  The three points not falling near the correlation are Barry Bonds and Roger Clemons (PED history for otherwise certain hofs) and Lee Smith (reliever).  Going back further years shows a large scatter in terms of WAR and corrected percentage change, and it would be interesting to see how this has changed over all the different years and to see if the strength of this correlation has been increasing.  Furthermore, it would be interesting to see how this relates to a players other, more traditional metrics like home runs or wins.   \n",
    "\n",
    "The green circles are players that have been a strongly association with PEDs.  Barry Bonds and Roger Clemons are exceptions, but the drop in the percentages for the other three players is in line for the drop for players with similar values of WAR.   Along with the average change in voting seen for Bonds and Clemons, it does not look like the behavior for players associated with PEDs is very different than other players.   \n",
    "\n"
   ]
  },
  {
   "cell_type": "code",
   "execution_count": 27,
   "metadata": {
    "collapsed": false
   },
   "outputs": [
    {
     "data": {
      "image/png": "[encoded data removed]",
      "text/plain": [
       "<matplotlib.figure.Figure at 0x109afda10>"
      ]
     },
     "metadata": {},
     "output_type": "display_data"
    }
   ],
   "source": [
    "plt.plot(war_list[-17:], pp_list[-17:], 'bo')\n",
    "mask = np.zeros(len(war_2016_list), dtype=bool)\n",
    "for i, name in enumerate(name_list):\n",
    "    if name in ['Sammy Sosa', 'Gary Sheffield', 'Mark McGwire', 'Barry Bonds', 'Roger Clemens']:\n",
    "        mask[i]=True\n",
    "\n",
    "war = np.array(war_2016_list)\n",
    "pp = np.array(pp_2016_list)\n",
    "plt.plot(war, pp, 'rs')\n",
    "plt.plot(war[mask], pp[mask], 'gs')\n",
    "plt.xlabel('WAR', fontsize='x-large')\n",
    "plt.ylabel('$\\Delta p - s $', fontsize='x-large')\n",
    "plt.show()"
   ]
  },
  {
   "cell_type": "code",
   "execution_count": 28,
   "metadata": {
    "collapsed": false
   },
   "outputs": [
    {
     "data": {
      "text/html": [
       "&lt;Table length=17&gt;\n",
       "<table id=\"table4456666192-750599\" class=\"table table-striped table-bordered table-condensed\">\n",
       "<thead><tr><th>col0</th><th>col1</th><th>col2</th><th>col3</th><th>col4</th></tr></thead>\n",
       "<tr><td>Lee Smith</td><td>0.302</td><td>0.039</td><td>-0.0515564147749</td><td>29.6</td></tr>\n",
       "<tr><td>Jeff Kent</td><td>0.14</td><td>0.026</td><td>-0.0645564147749</td><td>55.2</td></tr>\n",
       "<tr><td>Edgar Martinez</td><td>0.27</td><td>0.164</td><td>0.0734435852251</td><td>68.3</td></tr>\n",
       "<tr><td>Alan Trammell</td><td>0.251</td><td>0.158</td><td>0.0674435852251</td><td>70.4</td></tr>\n",
       "<tr><td>Larry Walker</td><td>0.118</td><td>0.037</td><td>-0.0535564147749</td><td>72.6</td></tr>\n",
       "<tr><td>Curt Schilling</td><td>0.392</td><td>0.131</td><td>0.0404435852251</td><td>79.9</td></tr>\n",
       "<tr><td>Roger Clemens</td><td>0.375</td><td>0.077</td><td>-0.0135564147749</td><td>140.3</td></tr>\n",
       "<tr><td>Mike Mussina</td><td>0.246</td><td>0.184</td><td>0.0934435852251</td><td>83.0</td></tr>\n",
       "<tr><td>Gary Sheffield</td><td>0.117</td><td>-0.001</td><td>-0.0915564147749</td><td>60.3</td></tr>\n",
       "<tr><td>Sammy Sosa</td><td>0.066</td><td>0.004</td><td>-0.0865564147749</td><td>58.4</td></tr>\n",
       "<tr><td>Mike Piazza</td><td>0.699</td><td>0.131</td><td>0.0404435852251</td><td>59.4</td></tr>\n",
       "<tr><td>Barry Bonds</td><td>0.368</td><td>0.075</td><td>-0.0155564147749</td><td>162.4</td></tr>\n",
       "<tr><td>Fred McGriff</td><td>0.129</td><td>0.08</td><td>-0.0105564147749</td><td>52.4</td></tr>\n",
       "<tr><td>Tim Raines</td><td>0.55</td><td>0.148</td><td>0.0574435852251</td><td>69.1</td></tr>\n",
       "<tr><td>Nomar Garciaparra</td><td>0.055</td><td>-0.037</td><td>-0.127556414775</td><td>44.2</td></tr>\n",
       "<tr><td>Jeff Bagwell</td><td>0.557</td><td>0.159</td><td>0.0684435852251</td><td>79.6</td></tr>\n",
       "<tr><td>Mark McGwire</td><td>0.1</td><td>0.023</td><td>-0.0675564147749</td><td>62.0</td></tr>\n",
       "</table><style>table.dataTable {clear: both; width: auto !important; margin: 0 !important;}\n",
       ".dataTables_info, .dataTables_length, .dataTables_filter, .dataTables_paginate{\n",
       "display: inline-block; margin-right: 1em; }\n",
       ".paginate_button { margin-right: 5px; }\n",
       "</style>\n",
       "<script>\n",
       "require.config({paths: {\n",
       "    datatables: 'https://cdn.datatables.net/1.10.9/js/jquery.dataTables.min'\n",
       "}});\n",
       "require([\"datatables\"], function(){\n",
       "    console.log(\"$('#table4456666192-750599').dataTable()\");\n",
       "    $('#table4456666192-750599').dataTable({\n",
       "        \"iDisplayLength\": 50,\n",
       "        \"aLengthMenu\": [[10, 25, 50, 100, 500, 1000, -1], [10, 25, 50, 100, 500, 1000, 'All']],\n",
       "        \"pagingType\": \"full_numbers\"\n",
       "    });\n",
       "});\n",
       "</script>\n"
      ],
      "text/plain": [
       "<IPython.core.display.HTML object>"
      ]
     },
     "execution_count": 28,
     "metadata": {},
     "output_type": "execute_result"
    }
   ],
   "source": [
    "Table((name_list, p_2016_list, dp_2016_list, pp_2016_list, war_2016_list)).show_in_notebook()"
   ]
  },
  {
   "cell_type": "markdown",
   "metadata": {},
   "source": [
    "## Conclusions and other thoughts\n",
    "\n",
    "The overall average change in vote percentage was almost exactly what was predicted based on the strength of the incoming class and the large number of Hall of Famers elected the previous year.   Along with the fact that percentages tend to increase relative to the average change for players with higher percentages, it does not look like there were any major changes to the voter patterns between this year and last year due to the *purge* of voters.\n",
    "\n",
    "\n",
    "In terms of players that took PEDs, no major differences are detected in the voting patterns as compared to other players or the previous year.    \n",
    "\n",
    "In terms of WAR, the percentage change for a player does seem to correlate with WAR and possible has become a stronger correlation.  \n",
    "\n",
    "However, it should be noted that this is one year, a relatively small sample size, and that something very different could be occurring here. \n",
    "\n",
    "Relievers still are an exceptional case with Lee Smith having a very low WAR.  His vote percentage did decrease relative to the overall class and it will be interesting to see what happens to the three relieviers (Trevor Hoffman and Billy Wagner along with Lee Smith) next year.   If Lee Smith is an example of how the new group of voters view relievers, we would expect to see all of their percentages drop relative to the average change, but it will be interesting as Trevor Hoffman is already very close. \n",
    "\n",
    "The player with the worst performance though was Nomar Garciaparra with a drop in voting percentage of -12% as compared to the average.  He was never associated with PEDs, and this was arguably expected due to being the lowest, second year positional player by WAR on the ballot.  On the other hand, the player with the largest increase, Mike Mussina, has the largest WAR of any player outside of Bonds or Clemons.  \n",
    "\n",
    "As a final aside, Jeff Bagwell, Curt Schilling, and Mike Mussina are the only players in the last 20 years with no known associated with PEDs and WAR > 75 to not be elected, so far,  to the hall of fame.   Along with Phil Neikro and Bert Blyleven (and exlcuding Roger Clemons and Barry Bonds), these five players are the only players with WAR > 75 and not be elected on their first ballot in the last twenty years, whereas 13 other players with WAR > 75 were elected on their first ballot.  "
   ]
  },
  {
   "cell_type": "code",
   "execution_count": 29,
   "metadata": {
    "collapsed": false
   },
   "outputs": [
    {
     "name": "stdout",
     "output_type": "stream",
     "text": [
      "George Brett 88.4 0.982\n",
      "Robin Yount 77.0 0.775\n",
      "Nolan Ryan 81.8 0.988\n",
      "Ozzie Smith 76.5 0.917\n",
      "Paul Molitor 75.4 0.852\n",
      "Wade Boggs 91.1 0.919\n",
      "Cal Ripken 95.5 0.985\n",
      "Rickey Henderson 110.8 0.948\n",
      "Tom Glavine 81.4 0.919\n",
      "Greg Maddux 106.9 0.972\n",
      "Pedro Martinez 84.0 0.911\n",
      "Randy Johnson 102.1 0.973\n",
      "Ken Griffey 83.6 0.993\n"
     ]
    },
    {
     "data": {
      "image/png": "[encoded data removed]",
      "text/plain": [
       "<matplotlib.figure.Figure at 0x109b38990>"
      ]
     },
     "metadata": {},
     "output_type": "display_data"
    }
   ],
   "source": [
    "plt.figure()\n",
    "\n",
    "for year in range(1996,2017):\n",
    "    for name in hof[year].keys():\n",
    "        if hof[year][name]['year']=='1st' :\n",
    "            w = hof[year][name]['war']\n",
    "            p = hof[year][name]['p']\n",
    "            plt.plot([w], [p], 'bo') \n",
    "            if p > 0.75 and w > 75: print name, w, p\n",
    "plt.show()"
   ]
  },
  {
   "cell_type": "code",
   "execution_count": null,
   "metadata": {
    "collapsed": true
   },
   "outputs": [],
   "source": []
  },
  {
   "cell_type": "code",
   "execution_count": null,
   "metadata": {
    "collapsed": true
   },
   "outputs": [],
   "source": []
  },
  {
   "cell_type": "code",
   "execution_count": null,
   "metadata": {
    "collapsed": true
   },
   "outputs": [],
   "source": []
  },
  {
   "cell_type": "code",
   "execution_count": null,
   "metadata": {
    "collapsed": true
   },
   "outputs": [],
   "source": []
  }
 ],
 "metadata": {
  "kernelspec": {
   "display_name": "Python 2",
   "language": "python",
   "name": "python2"
  },
  "language_info": {
   "codemirror_mode": {
    "name": "ipython",
    "version": 2
   },
   "file_extension": ".py",
   "mimetype": "text/x-python",
   "name": "python",
   "nbconvert_exporter": "python",
   "pygments_lexer": "ipython2",
   "version": "2.7.10"
  }
 },
 "nbformat": 4,
 "nbformat_minor": 0
}
